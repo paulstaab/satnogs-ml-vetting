{
 "cells": [
  {
   "cell_type": "code",
   "execution_count": 1,
   "metadata": {},
   "outputs": [],
   "source": [
    "import numpy as np\n",
    "import pickle"
   ]
  },
  {
   "cell_type": "code",
   "execution_count": 13,
   "metadata": {},
   "outputs": [],
   "source": [
    "from sklearn.datasets import load_iris\n",
    "from sklearn import tree\n",
    "from sklearn.model_selection import cross_val_score, cross_val_predict\n",
    "from sklearn.metrics import confusion_matrix"
   ]
  },
  {
   "cell_type": "markdown",
   "metadata": {},
   "source": [
    "## Load the features"
   ]
  },
  {
   "cell_type": "code",
   "execution_count": 3,
   "metadata": {},
   "outputs": [
    {
     "data": {
      "text/plain": [
       "(50, 3)"
      ]
     },
     "execution_count": 3,
     "metadata": {},
     "output_type": "execute_result"
    }
   ],
   "source": [
    "with open('../cache/features','rb') as f:\n",
    "    X, y = pickle.load(f)\n",
    "X.shape"
   ]
  },
  {
   "cell_type": "code",
   "execution_count": 4,
   "metadata": {},
   "outputs": [
    {
     "data": {
      "text/plain": [
       "array([[ 0.62509819,  1.24442821,  0.61933002],\n",
       "       [-0.67339109,  1.45417919,  2.12757029],\n",
       "       [-0.5878073 ,  0.52357917,  1.11138647],\n",
       "       [-2.49887594,  2.66966308,  5.16853902],\n",
       "       [-0.03944933, -0.25984043, -0.2203911 ]])"
      ]
     },
     "execution_count": 4,
     "metadata": {},
     "output_type": "execute_result"
    }
   ],
   "source": [
    "X[:5,]"
   ]
  },
  {
   "cell_type": "code",
   "execution_count": 5,
   "metadata": {},
   "outputs": [
    {
     "data": {
      "text/plain": [
       "0.5"
      ]
     },
     "execution_count": 5,
     "metadata": {},
     "output_type": "execute_result"
    }
   ],
   "source": [
    "y.mean()"
   ]
  },
  {
   "cell_type": "markdown",
   "metadata": {},
   "source": [
    "## Evalutate a Decision Tree Model via Cross-Validation"
   ]
  },
  {
   "cell_type": "code",
   "execution_count": 23,
   "metadata": {},
   "outputs": [],
   "source": [
    "clf = tree.DecisionTreeClassifier().fit(X, y)"
   ]
  },
  {
   "cell_type": "code",
   "execution_count": 24,
   "metadata": {},
   "outputs": [
    {
     "name": "stdout",
     "output_type": "stream",
     "text": [
      "Accuracy: 0.54 (+/- 0.48)\n"
     ]
    }
   ],
   "source": [
    "scores = cross_val_score(clf, X, y, cv=10)\n",
    "print(\"Accuracy: %0.2f (+/- %0.2f)\" % (scores.mean(), scores.std() * 2))"
   ]
  },
  {
   "cell_type": "code",
   "execution_count": 25,
   "metadata": {},
   "outputs": [
    {
     "data": {
      "text/plain": [
       "array([[15, 10],\n",
       "       [13, 12]])"
      ]
     },
     "execution_count": 25,
     "metadata": {},
     "output_type": "execute_result"
    }
   ],
   "source": [
    "y_pred = cross_val_predict(clf, X, y, cv=10)\n",
    "confusion_matrix(y, y_pred)"
   ]
  },
  {
   "cell_type": "code",
   "execution_count": 30,
   "metadata": {},
   "outputs": [
    {
     "data": {
      "text/plain": [
       "'decicition_tree.pdf'"
      ]
     },
     "execution_count": 30,
     "metadata": {},
     "output_type": "execute_result"
    }
   ],
   "source": [
    "import graphviz \n",
    "dot_data = tree.export_graphviz(clf, out_file=None,   \n",
    "                         filled=True, rounded=True,  \n",
    "                         special_characters=True)\n",
    "graph = graphviz.Source(dot_data) \n",
    "graph.render(\"decicition_tree\") "
   ]
  },
  {
   "cell_type": "markdown",
   "metadata": {},
   "source": [
    "## Look at bad examples"
   ]
  },
  {
   "cell_type": "code",
   "execution_count": 17,
   "metadata": {},
   "outputs": [],
   "source": [
    "from PIL import Image\n",
    "import imageio\n",
    "\n",
    "def printWaterfall(file):\n",
    "    im = imageio.imread(file)\n",
    "    display(Image.fromarray(im))"
   ]
  },
  {
   "cell_type": "code",
   "execution_count": 18,
   "metadata": {},
   "outputs": [
    {
     "name": "stdout",
     "output_type": "stream",
     "text": [
      "[-2.49887594  2.66966308  5.16853902]\n",
      "[-0.03944933 -0.25984043 -0.2203911 ]\n",
      "[2.1574742  2.65519119 0.49771699]\n",
      "[1.77362515 2.43181702 0.65819187]\n",
      "[ 0.76744592  0.16562809 -0.60181783]\n",
      "[3.50395173 3.67764738 0.17369565]\n",
      "[ 2.26107769  1.82145815 -0.43961955]\n",
      "[-0.23652635 -0.07155775  0.1649686 ]\n",
      "[-1.6641765   0.31323888  1.97741538]\n",
      "[ 5.54330004 10.45816298  4.91486293]\n",
      "[-0.21483913  0.21619935  0.43103849]\n",
      "[1.01193613 2.21828751 1.20635139]\n"
     ]
    }
   ],
   "source": [
    "is_false_negative = np.logical_and(y == 1, y_pred == 0)\n",
    "for fp in X[is_false_negative]:\n",
    "    print(fp)"
   ]
  },
  {
   "cell_type": "code",
   "execution_count": 19,
   "metadata": {},
   "outputs": [
    {
     "name": "stdout",
     "output_type": "stream",
     "text": [
      "[2.98122529 3.35490679 0.3736815 ]\n",
      "[-0.36643211  0.26361184  0.63004394]\n",
      "[-0.86330919  0.41841343  1.28172262]\n",
      "[24.29879826 24.12743707 -0.1713612 ]\n",
      "[5.60013484 5.75458414 0.1544493 ]\n",
      "[ 1.03784514 -0.34498352 -1.38282866]\n",
      "[1.601177   2.26345954 0.66228254]\n",
      "[-0.10467485  0.08699378  0.19166863]\n",
      "[0.10617613 0.36678522 0.26060909]\n",
      "[2.02581137 3.75073865 1.72492728]\n"
     ]
    }
   ],
   "source": [
    "is_false_positive = np.logical_and(y == 0, y_pred == 1)\n",
    "for fn in X[is_false_positive]:\n",
    "    print(fn)"
   ]
  },
  {
   "cell_type": "code",
   "execution_count": null,
   "metadata": {},
   "outputs": [],
   "source": []
  }
 ],
 "metadata": {
  "kernelspec": {
   "display_name": "Python 3",
   "language": "python",
   "name": "python3"
  },
  "language_info": {
   "codemirror_mode": {
    "name": "ipython",
    "version": 3
   },
   "file_extension": ".py",
   "mimetype": "text/x-python",
   "name": "python",
   "nbconvert_exporter": "python",
   "pygments_lexer": "ipython3",
   "version": "3.5.2"
  }
 },
 "nbformat": 4,
 "nbformat_minor": 2
}
